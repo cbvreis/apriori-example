{
 "cells": [
  {
   "cell_type": "code",
   "execution_count": 133,
   "metadata": {
    "collapsed": true,
    "pycharm": {
     "name": "#%%\n"
    }
   },
   "outputs": [],
   "source": [
    "import pandas as pd\n",
    "import numpy as np\n",
    "import seaborn as sns\n",
    "import matplotlib.pyplot as plt"
   ]
  },
  {
   "cell_type": "code",
   "execution_count": 134,
   "outputs": [],
   "source": [
    "df_itens = pd.read_excel('../database/itens.xlsx')\n",
    "df_trancacoes = pd.read_excel('../database/transacoes.xlsx')\n",
    "df_item_transacoes = pd.read_excel('../database/itemtransacao.xlsx')"
   ],
   "metadata": {
    "collapsed": false,
    "pycharm": {
     "name": "#%%\n"
    }
   }
  },
  {
   "cell_type": "code",
   "execution_count": 135,
   "outputs": [
    {
     "data": {
      "text/plain": "   codItem         descrição   marca          tipo\n0        1      banana prata  banana         fruta\n1        2    banana caturra  banana         fruta\n2        3       limao Taiti   limao         fruta\n3        4   limão siciliano   limão         fruta\n4        5              coca    coca  refrigerante\n5        6        coca light    coca  refrigerante\n6        7  coca lemon light    coca  refirgerante\n7       10       omo collors     omo   sabao em po\n8       11      omo progress     omo   sabao em po\n9       12       ariel total   ariel   sabao em po",
      "text/html": "<div>\n<style scoped>\n    .dataframe tbody tr th:only-of-type {\n        vertical-align: middle;\n    }\n\n    .dataframe tbody tr th {\n        vertical-align: top;\n    }\n\n    .dataframe thead th {\n        text-align: right;\n    }\n</style>\n<table border=\"1\" class=\"dataframe\">\n  <thead>\n    <tr style=\"text-align: right;\">\n      <th></th>\n      <th>codItem</th>\n      <th>descrição</th>\n      <th>marca</th>\n      <th>tipo</th>\n    </tr>\n  </thead>\n  <tbody>\n    <tr>\n      <th>0</th>\n      <td>1</td>\n      <td>banana prata</td>\n      <td>banana</td>\n      <td>fruta</td>\n    </tr>\n    <tr>\n      <th>1</th>\n      <td>2</td>\n      <td>banana caturra</td>\n      <td>banana</td>\n      <td>fruta</td>\n    </tr>\n    <tr>\n      <th>2</th>\n      <td>3</td>\n      <td>limao Taiti</td>\n      <td>limao</td>\n      <td>fruta</td>\n    </tr>\n    <tr>\n      <th>3</th>\n      <td>4</td>\n      <td>limão siciliano</td>\n      <td>limão</td>\n      <td>fruta</td>\n    </tr>\n    <tr>\n      <th>4</th>\n      <td>5</td>\n      <td>coca</td>\n      <td>coca</td>\n      <td>refrigerante</td>\n    </tr>\n    <tr>\n      <th>5</th>\n      <td>6</td>\n      <td>coca light</td>\n      <td>coca</td>\n      <td>refrigerante</td>\n    </tr>\n    <tr>\n      <th>6</th>\n      <td>7</td>\n      <td>coca lemon light</td>\n      <td>coca</td>\n      <td>refirgerante</td>\n    </tr>\n    <tr>\n      <th>7</th>\n      <td>10</td>\n      <td>omo collors</td>\n      <td>omo</td>\n      <td>sabao em po</td>\n    </tr>\n    <tr>\n      <th>8</th>\n      <td>11</td>\n      <td>omo progress</td>\n      <td>omo</td>\n      <td>sabao em po</td>\n    </tr>\n    <tr>\n      <th>9</th>\n      <td>12</td>\n      <td>ariel total</td>\n      <td>ariel</td>\n      <td>sabao em po</td>\n    </tr>\n  </tbody>\n</table>\n</div>"
     },
     "execution_count": 135,
     "metadata": {},
     "output_type": "execute_result"
    }
   ],
   "source": [
    "df_itens.head(10)"
   ],
   "metadata": {
    "collapsed": false,
    "pycharm": {
     "name": "#%%\n"
    }
   }
  },
  {
   "cell_type": "code",
   "execution_count": 136,
   "outputs": [
    {
     "data": {
      "text/plain": "   IDTransação  valorTotal tipo pagamento\n0            1          15             ch\n1            2          20             ch\n2            3          14             es\n3            4          19             ch\n4            5          15             es\n5            6          24             cc\n6            7          16             ch\n7            8          21             es\n8            9          20             cc\n9           10          17             cc",
      "text/html": "<div>\n<style scoped>\n    .dataframe tbody tr th:only-of-type {\n        vertical-align: middle;\n    }\n\n    .dataframe tbody tr th {\n        vertical-align: top;\n    }\n\n    .dataframe thead th {\n        text-align: right;\n    }\n</style>\n<table border=\"1\" class=\"dataframe\">\n  <thead>\n    <tr style=\"text-align: right;\">\n      <th></th>\n      <th>IDTransação</th>\n      <th>valorTotal</th>\n      <th>tipo pagamento</th>\n    </tr>\n  </thead>\n  <tbody>\n    <tr>\n      <th>0</th>\n      <td>1</td>\n      <td>15</td>\n      <td>ch</td>\n    </tr>\n    <tr>\n      <th>1</th>\n      <td>2</td>\n      <td>20</td>\n      <td>ch</td>\n    </tr>\n    <tr>\n      <th>2</th>\n      <td>3</td>\n      <td>14</td>\n      <td>es</td>\n    </tr>\n    <tr>\n      <th>3</th>\n      <td>4</td>\n      <td>19</td>\n      <td>ch</td>\n    </tr>\n    <tr>\n      <th>4</th>\n      <td>5</td>\n      <td>15</td>\n      <td>es</td>\n    </tr>\n    <tr>\n      <th>5</th>\n      <td>6</td>\n      <td>24</td>\n      <td>cc</td>\n    </tr>\n    <tr>\n      <th>6</th>\n      <td>7</td>\n      <td>16</td>\n      <td>ch</td>\n    </tr>\n    <tr>\n      <th>7</th>\n      <td>8</td>\n      <td>21</td>\n      <td>es</td>\n    </tr>\n    <tr>\n      <th>8</th>\n      <td>9</td>\n      <td>20</td>\n      <td>cc</td>\n    </tr>\n    <tr>\n      <th>9</th>\n      <td>10</td>\n      <td>17</td>\n      <td>cc</td>\n    </tr>\n  </tbody>\n</table>\n</div>"
     },
     "execution_count": 136,
     "metadata": {},
     "output_type": "execute_result"
    }
   ],
   "source": [
    "df_trancacoes.head(10)"
   ],
   "metadata": {
    "collapsed": false,
    "pycharm": {
     "name": "#%%\n"
    }
   }
  },
  {
   "cell_type": "code",
   "execution_count": 137,
   "outputs": [
    {
     "data": {
      "text/plain": "   IDTransação  item\n0            1     1\n1            1     4\n2            1    12\n3            2    12\n4            3     2\n5            3    12\n6            5     2\n7            5     5\n8            6     1\n9            6     3",
      "text/html": "<div>\n<style scoped>\n    .dataframe tbody tr th:only-of-type {\n        vertical-align: middle;\n    }\n\n    .dataframe tbody tr th {\n        vertical-align: top;\n    }\n\n    .dataframe thead th {\n        text-align: right;\n    }\n</style>\n<table border=\"1\" class=\"dataframe\">\n  <thead>\n    <tr style=\"text-align: right;\">\n      <th></th>\n      <th>IDTransação</th>\n      <th>item</th>\n    </tr>\n  </thead>\n  <tbody>\n    <tr>\n      <th>0</th>\n      <td>1</td>\n      <td>1</td>\n    </tr>\n    <tr>\n      <th>1</th>\n      <td>1</td>\n      <td>4</td>\n    </tr>\n    <tr>\n      <th>2</th>\n      <td>1</td>\n      <td>12</td>\n    </tr>\n    <tr>\n      <th>3</th>\n      <td>2</td>\n      <td>12</td>\n    </tr>\n    <tr>\n      <th>4</th>\n      <td>3</td>\n      <td>2</td>\n    </tr>\n    <tr>\n      <th>5</th>\n      <td>3</td>\n      <td>12</td>\n    </tr>\n    <tr>\n      <th>6</th>\n      <td>5</td>\n      <td>2</td>\n    </tr>\n    <tr>\n      <th>7</th>\n      <td>5</td>\n      <td>5</td>\n    </tr>\n    <tr>\n      <th>8</th>\n      <td>6</td>\n      <td>1</td>\n    </tr>\n    <tr>\n      <th>9</th>\n      <td>6</td>\n      <td>3</td>\n    </tr>\n  </tbody>\n</table>\n</div>"
     },
     "execution_count": 137,
     "metadata": {},
     "output_type": "execute_result"
    }
   ],
   "source": [
    "df_item_transacoes.head(10)"
   ],
   "metadata": {
    "collapsed": false,
    "pycharm": {
     "name": "#%%\n"
    }
   }
  },
  {
   "cell_type": "code",
   "execution_count": 138,
   "outputs": [],
   "source": [
    "df_merge = pd.merge(df_trancacoes, df_item_transacoes, on='IDTransação',how='inner')"
   ],
   "metadata": {
    "collapsed": false,
    "pycharm": {
     "name": "#%%\n"
    }
   }
  },
  {
   "cell_type": "code",
   "execution_count": 139,
   "outputs": [],
   "source": [
    "replace_name_colunas = {'item':'codItem'}\n",
    "df_merge.rename(columns=replace_name_colunas, inplace=True)"
   ],
   "metadata": {
    "collapsed": false,
    "pycharm": {
     "name": "#%%\n"
    }
   }
  },
  {
   "cell_type": "code",
   "execution_count": 140,
   "outputs": [
    {
     "data": {
      "text/plain": "   IDTransação  valorTotal tipo pagamento  codItem\n0            1          15             ch        1\n1            1          15             ch        4\n2            1          15             ch       12\n3            2          20             ch       12\n4            3          14             es        2\n5            3          14             es       12\n6            5          15             es        2\n7            5          15             es        5\n8            6          24             cc        1\n9            6          24             cc        3",
      "text/html": "<div>\n<style scoped>\n    .dataframe tbody tr th:only-of-type {\n        vertical-align: middle;\n    }\n\n    .dataframe tbody tr th {\n        vertical-align: top;\n    }\n\n    .dataframe thead th {\n        text-align: right;\n    }\n</style>\n<table border=\"1\" class=\"dataframe\">\n  <thead>\n    <tr style=\"text-align: right;\">\n      <th></th>\n      <th>IDTransação</th>\n      <th>valorTotal</th>\n      <th>tipo pagamento</th>\n      <th>codItem</th>\n    </tr>\n  </thead>\n  <tbody>\n    <tr>\n      <th>0</th>\n      <td>1</td>\n      <td>15</td>\n      <td>ch</td>\n      <td>1</td>\n    </tr>\n    <tr>\n      <th>1</th>\n      <td>1</td>\n      <td>15</td>\n      <td>ch</td>\n      <td>4</td>\n    </tr>\n    <tr>\n      <th>2</th>\n      <td>1</td>\n      <td>15</td>\n      <td>ch</td>\n      <td>12</td>\n    </tr>\n    <tr>\n      <th>3</th>\n      <td>2</td>\n      <td>20</td>\n      <td>ch</td>\n      <td>12</td>\n    </tr>\n    <tr>\n      <th>4</th>\n      <td>3</td>\n      <td>14</td>\n      <td>es</td>\n      <td>2</td>\n    </tr>\n    <tr>\n      <th>5</th>\n      <td>3</td>\n      <td>14</td>\n      <td>es</td>\n      <td>12</td>\n    </tr>\n    <tr>\n      <th>6</th>\n      <td>5</td>\n      <td>15</td>\n      <td>es</td>\n      <td>2</td>\n    </tr>\n    <tr>\n      <th>7</th>\n      <td>5</td>\n      <td>15</td>\n      <td>es</td>\n      <td>5</td>\n    </tr>\n    <tr>\n      <th>8</th>\n      <td>6</td>\n      <td>24</td>\n      <td>cc</td>\n      <td>1</td>\n    </tr>\n    <tr>\n      <th>9</th>\n      <td>6</td>\n      <td>24</td>\n      <td>cc</td>\n      <td>3</td>\n    </tr>\n  </tbody>\n</table>\n</div>"
     },
     "execution_count": 140,
     "metadata": {},
     "output_type": "execute_result"
    }
   ],
   "source": [
    "df_merge.head(10)"
   ],
   "metadata": {
    "collapsed": false,
    "pycharm": {
     "name": "#%%\n"
    }
   }
  },
  {
   "cell_type": "code",
   "execution_count": 141,
   "outputs": [],
   "source": [
    "df_final = pd.merge(df_itens, df_merge, on=['codItem'],how='inner')"
   ],
   "metadata": {
    "collapsed": false,
    "pycharm": {
     "name": "#%%\n"
    }
   }
  },
  {
   "cell_type": "code",
   "execution_count": 142,
   "outputs": [],
   "source": [
    "df_final.replace('refirgerante', 'refrigerante', inplace=True)\n",
    "df_final.replace('limao', 'limão', inplace=True)"
   ],
   "metadata": {
    "collapsed": false,
    "pycharm": {
     "name": "#%%\n"
    }
   }
  },
  {
   "cell_type": "markdown",
   "source": [
    "## Gráficos"
   ],
   "metadata": {
    "collapsed": false,
    "pycharm": {
     "name": "#%% md\n"
    }
   }
  },
  {
   "cell_type": "code",
   "execution_count": 143,
   "outputs": [
    {
     "data": {
      "text/plain": "<Figure size 864x576 with 1 Axes>",
      "image/png": "[encoded data removed]"
     },
     "metadata": {},
     "output_type": "display_data"
    }
   ],
   "source": [
    "# Gráfico de barras horizontal - Quantidade de itens por transação\n",
    "fig = plt.figure(figsize=(12,8))\n",
    "sns.countplot(x='IDTransação', data=df_final, color='blue')\n",
    "plt.title('Quantidade de itens por transação')\n",
    "plt.xlabel('Transações')\n",
    "plt.ylabel('Quantidade de itens')\n",
    "plt.show()"
   ],
   "metadata": {
    "collapsed": false,
    "pycharm": {
     "name": "#%%\n"
    }
   }
  },
  {
   "cell_type": "code",
   "execution_count": 144,
   "outputs": [
    {
     "data": {
      "text/plain": "count    27.000000\nmean      3.148148\nstd       0.988538\nmin       1.000000\n25%       3.000000\n50%       3.000000\n75%       4.000000\nmax       5.000000\ndtype: float64"
     },
     "execution_count": 144,
     "metadata": {},
     "output_type": "execute_result"
    }
   ],
   "source": [
    "df_final.groupby('IDTransação').size().describe()"
   ],
   "metadata": {
    "collapsed": false,
    "pycharm": {
     "name": "#%%\n"
    }
   }
  },
  {
   "cell_type": "code",
   "execution_count": 145,
   "outputs": [
    {
     "data": {
      "text/plain": "count     27.000000\nmean      53.222222\nstd       26.889136\nmin       10.000000\n25%       33.000000\n50%       45.000000\n75%       80.000000\nmax      120.000000\nName: valorTotal, dtype: float64"
     },
     "execution_count": 145,
     "metadata": {},
     "output_type": "execute_result"
    }
   ],
   "source": [
    "df_final.groupby('IDTransação')['valorTotal'].sum().describe()"
   ],
   "metadata": {
    "collapsed": false,
    "pycharm": {
     "name": "#%%\n"
    }
   }
  },
  {
   "cell_type": "code",
   "execution_count": 146,
   "outputs": [
    {
     "data": {
      "text/plain": "tipo\nfruta           46.972860\nrefrigerante    26.235212\nsabao em po     26.791928\nName: valorTotal, dtype: float64"
     },
     "execution_count": 146,
     "metadata": {},
     "output_type": "execute_result"
    }
   ],
   "source": [
    "df_final.groupby('tipo')['valorTotal'].sum()*100/df_final.valorTotal.sum()"
   ],
   "metadata": {
    "collapsed": false,
    "pycharm": {
     "name": "#%%\n"
    }
   }
  },
  {
   "cell_type": "code",
   "execution_count": 147,
   "outputs": [
    {
     "data": {
      "text/plain": "<Figure size 864x576 with 1 Axes>",
      "image/png": "[encoded data removed]"
     },
     "metadata": {},
     "output_type": "display_data"
    }
   ],
   "source": [
    "#Grafico de barra horizontal quantidade de itens por tipo\n",
    "fig = plt.figure(figsize=(12,8))\n",
    "sns.countplot(x='tipo', data=df_final, color='blue')\n",
    "plt.title('Quantidade de itens por tipo')\n",
    "plt.xlabel('Tipo')\n",
    "plt.ylabel('Quantidade de itens')\n",
    "plt.show()"
   ],
   "metadata": {
    "collapsed": false,
    "pycharm": {
     "name": "#%%\n"
    }
   }
  },
  {
   "cell_type": "code",
   "execution_count": 148,
   "outputs": [
    {
     "data": {
      "text/plain": "<Figure size 864x576 with 1 Axes>",
      "image/png": "[encoded data removed]"
     },
     "metadata": {},
     "output_type": "display_data"
    }
   ],
   "source": [
    "#Grafico de barra horizontal de quantidade de itens por marca\n",
    "fig = plt.figure(figsize=(12,8))\n",
    "sns.countplot(x='marca', data=df_final, color='blue')\n",
    "plt.title('Quantidade de itens por marca')\n",
    "plt.xlabel('Marca')\n",
    "plt.ylabel('Quantidade de itens')\n",
    "plt.show()"
   ],
   "metadata": {
    "collapsed": false,
    "pycharm": {
     "name": "#%%\n"
    }
   }
  },
  {
   "cell_type": "code",
   "execution_count": 149,
   "outputs": [
    {
     "data": {
      "text/plain": "   codItem     descrição   marca   tipo  IDTransação  valorTotal  \\\n0        1  banana prata  banana  fruta            1          15   \n1        1  banana prata  banana  fruta            6          24   \n2        1  banana prata  banana  fruta           14          10   \n3        1  banana prata  banana  fruta           15          20   \n4        1  banana prata  banana  fruta           18          12   \n\n  tipo pagamento  \n0             ch  \n1             cc  \n2             es  \n3             cc  \n4             es  ",
      "text/html": "<div>\n<style scoped>\n    .dataframe tbody tr th:only-of-type {\n        vertical-align: middle;\n    }\n\n    .dataframe tbody tr th {\n        vertical-align: top;\n    }\n\n    .dataframe thead th {\n        text-align: right;\n    }\n</style>\n<table border=\"1\" class=\"dataframe\">\n  <thead>\n    <tr style=\"text-align: right;\">\n      <th></th>\n      <th>codItem</th>\n      <th>descrição</th>\n      <th>marca</th>\n      <th>tipo</th>\n      <th>IDTransação</th>\n      <th>valorTotal</th>\n      <th>tipo pagamento</th>\n    </tr>\n  </thead>\n  <tbody>\n    <tr>\n      <th>0</th>\n      <td>1</td>\n      <td>banana prata</td>\n      <td>banana</td>\n      <td>fruta</td>\n      <td>1</td>\n      <td>15</td>\n      <td>ch</td>\n    </tr>\n    <tr>\n      <th>1</th>\n      <td>1</td>\n      <td>banana prata</td>\n      <td>banana</td>\n      <td>fruta</td>\n      <td>6</td>\n      <td>24</td>\n      <td>cc</td>\n    </tr>\n    <tr>\n      <th>2</th>\n      <td>1</td>\n      <td>banana prata</td>\n      <td>banana</td>\n      <td>fruta</td>\n      <td>14</td>\n      <td>10</td>\n      <td>es</td>\n    </tr>\n    <tr>\n      <th>3</th>\n      <td>1</td>\n      <td>banana prata</td>\n      <td>banana</td>\n      <td>fruta</td>\n      <td>15</td>\n      <td>20</td>\n      <td>cc</td>\n    </tr>\n    <tr>\n      <th>4</th>\n      <td>1</td>\n      <td>banana prata</td>\n      <td>banana</td>\n      <td>fruta</td>\n      <td>18</td>\n      <td>12</td>\n      <td>es</td>\n    </tr>\n  </tbody>\n</table>\n</div>"
     },
     "execution_count": 149,
     "metadata": {},
     "output_type": "execute_result"
    }
   ],
   "source": [
    "df_final.head()"
   ],
   "metadata": {
    "collapsed": false,
    "pycharm": {
     "name": "#%%\n"
    }
   }
  },
  {
   "cell_type": "code",
   "execution_count": 150,
   "outputs": [
    {
     "data": {
      "text/plain": "<Figure size 864x576 with 1 Axes>",
      "image/png": "[encoded data removed]"
     },
     "metadata": {},
     "output_type": "display_data"
    }
   ],
   "source": [
    "fig = plt.figure(figsize=(12,8))\n",
    "sns.barplot(x='marca', y='valorTotal', data=df_final, color='blue', hue='tipo')\n",
    "plt.show()"
   ],
   "metadata": {
    "collapsed": false,
    "pycharm": {
     "name": "#%%\n"
    }
   }
  },
  {
   "cell_type": "code",
   "execution_count": 151,
   "outputs": [
    {
     "data": {
      "text/plain": "<Figure size 864x576 with 1 Axes>",
      "image/png": "[encoded data removed]"
     },
     "metadata": {},
     "output_type": "display_data"
    }
   ],
   "source": [
    "#pizza plot - quantidade de itens por tipo pagamento\n",
    "fig = plt.figure(figsize=(12,8))\n",
    "sns.countplot(x='tipo', data=df_final, color='blue', hue='tipo pagamento')\n",
    "plt.title('Quantidade de itens por tipo pagamento')\n",
    "plt.xlabel('Tipo')\n",
    "plt.ylabel('Quantidade de itens')\n",
    "plt.show()"
   ],
   "metadata": {
    "collapsed": false,
    "pycharm": {
     "name": "#%%\n"
    }
   }
  },
  {
   "cell_type": "markdown",
   "source": [
    "## Apriori"
   ],
   "metadata": {
    "collapsed": false,
    "pycharm": {
     "name": "#%% md\n"
    }
   }
  },
  {
   "cell_type": "code",
   "execution_count": 152,
   "outputs": [],
   "source": [
    "data =df_final"
   ],
   "metadata": {
    "collapsed": false,
    "pycharm": {
     "name": "#%%\n"
    }
   }
  },
  {
   "cell_type": "code",
   "execution_count": 153,
   "outputs": [
    {
     "data": {
      "text/plain": "   codItem     descrição   marca   tipo  IDTransação  valorTotal  \\\n0        1  banana prata  banana  fruta            1          15   \n1        1  banana prata  banana  fruta            6          24   \n2        1  banana prata  banana  fruta           14          10   \n3        1  banana prata  banana  fruta           15          20   \n4        1  banana prata  banana  fruta           18          12   \n\n  tipo pagamento  \n0             ch  \n1             cc  \n2             es  \n3             cc  \n4             es  ",
      "text/html": "<div>\n<style scoped>\n    .dataframe tbody tr th:only-of-type {\n        vertical-align: middle;\n    }\n\n    .dataframe tbody tr th {\n        vertical-align: top;\n    }\n\n    .dataframe thead th {\n        text-align: right;\n    }\n</style>\n<table border=\"1\" class=\"dataframe\">\n  <thead>\n    <tr style=\"text-align: right;\">\n      <th></th>\n      <th>codItem</th>\n      <th>descrição</th>\n      <th>marca</th>\n      <th>tipo</th>\n      <th>IDTransação</th>\n      <th>valorTotal</th>\n      <th>tipo pagamento</th>\n    </tr>\n  </thead>\n  <tbody>\n    <tr>\n      <th>0</th>\n      <td>1</td>\n      <td>banana prata</td>\n      <td>banana</td>\n      <td>fruta</td>\n      <td>1</td>\n      <td>15</td>\n      <td>ch</td>\n    </tr>\n    <tr>\n      <th>1</th>\n      <td>1</td>\n      <td>banana prata</td>\n      <td>banana</td>\n      <td>fruta</td>\n      <td>6</td>\n      <td>24</td>\n      <td>cc</td>\n    </tr>\n    <tr>\n      <th>2</th>\n      <td>1</td>\n      <td>banana prata</td>\n      <td>banana</td>\n      <td>fruta</td>\n      <td>14</td>\n      <td>10</td>\n      <td>es</td>\n    </tr>\n    <tr>\n      <th>3</th>\n      <td>1</td>\n      <td>banana prata</td>\n      <td>banana</td>\n      <td>fruta</td>\n      <td>15</td>\n      <td>20</td>\n      <td>cc</td>\n    </tr>\n    <tr>\n      <th>4</th>\n      <td>1</td>\n      <td>banana prata</td>\n      <td>banana</td>\n      <td>fruta</td>\n      <td>18</td>\n      <td>12</td>\n      <td>es</td>\n    </tr>\n  </tbody>\n</table>\n</div>"
     },
     "execution_count": 153,
     "metadata": {},
     "output_type": "execute_result"
    }
   ],
   "source": [
    "data.head()"
   ],
   "metadata": {
    "collapsed": false,
    "pycharm": {
     "name": "#%%\n"
    }
   }
  },
  {
   "cell_type": "code",
   "execution_count": 154,
   "outputs": [],
   "source": [
    "from mlxtend.frequent_patterns import apriori, association_rules\n",
    "\n",
    "#Eliminando espaços extras e transformando em minusculo\n",
    "data['descrição'] = data['descrição'].str.strip()\n",
    "data['descrição'] = data['descrição'].str.lower()\n",
    "basket = data.groupby(['IDTransação', 'descrição'])['descrição'].count().unstack().reset_index().fillna(0).set_index('IDTransação')\n"
   ],
   "metadata": {
    "collapsed": false,
    "pycharm": {
     "name": "#%%\n"
    }
   }
  },
  {
   "cell_type": "code",
   "execution_count": 155,
   "outputs": [],
   "source": [
    "# Defining the hot encoding function to make the data suitable\n",
    "# for the concerned libraries\n",
    "def hot_encode(x):\n",
    "    if(x<= 0):\n",
    "        return 0\n",
    "    if(x>= 1):\n",
    "        return 1\n",
    "\n",
    "# Encoding the datasets\n",
    "basket_encoded = basket.applymap(hot_encode)"
   ],
   "metadata": {
    "collapsed": false,
    "pycharm": {
     "name": "#%%\n"
    }
   }
  },
  {
   "cell_type": "code",
   "execution_count": 156,
   "outputs": [
    {
     "name": "stderr",
     "output_type": "stream",
     "text": [
      "C:\\Users\\cassio.reis_saudeid\\Desktop\\CASSIO\\SICRED\\venv\\lib\\site-packages\\mlxtend\\frequent_patterns\\fpcommon.py:111: DeprecationWarning: DataFrames with non-bool types result in worse computationalperformance and their support might be discontinued in the future.Please use a DataFrame with bool type\n",
      "  warnings.warn(\n"
     ]
    },
    {
     "data": {
      "text/plain": "                                      antecedents  \\\n171                 (omo collors, banana caturra)   \n174                           (limao taiti, coca)   \n199                (limão siciliano, omo collors)   \n202              (banana prata, coca lemon light)   \n170                    (omo collors, limao taiti)   \n172                           (omo collors, coca)   \n184               (limão siciliano, omo progress)   \n188                (omo progress, banana caturra)   \n200           (limão siciliano, coca lemon light)   \n212                  (banana prata, omo progress)   \n60                  (omo collors, banana caturra)   \n142                    (omo collors, limao taiti)   \n166    (omo collors, limao taiti, banana caturra)   \n203               (coca lemon light, omo collors)   \n149                (limão siciliano, omo collors)   \n194  (limão siciliano, banana prata, omo collors)   \n109              (banana prata, coca lemon light)   \n144                           (limao taiti, coca)   \n148           (limão siciliano, coca lemon light)   \n169           (limao taiti, banana caturra, coca)   \n\n                          consequents  antecedent support  consequent support  \\\n171               (limao taiti, coca)            0.074074            0.074074   \n174     (omo collors, banana caturra)            0.074074            0.074074   \n199  (banana prata, coca lemon light)            0.074074            0.074074   \n202    (limão siciliano, omo collors)            0.074074            0.074074   \n170            (banana caturra, coca)            0.074074            0.111111   \n172     (limao taiti, banana caturra)            0.074074            0.148148   \n184      (coca light, banana caturra)            0.074074            0.148148   \n188     (limão siciliano, coca light)            0.074074            0.148148   \n200       (banana prata, omo collors)            0.074074            0.148148   \n212         (coca light, limao taiti)            0.074074            0.148148   \n60                             (coca)            0.074074            0.185185   \n142                            (coca)            0.074074            0.185185   \n166                            (coca)            0.074074            0.185185   \n203   (limão siciliano, banana prata)            0.074074            0.185185   \n149                (coca lemon light)            0.074074            0.222222   \n194                (coca lemon light)            0.074074            0.222222   \n109                     (omo collors)            0.074074            0.296296   \n144                     (omo collors)            0.074074            0.296296   \n148                     (omo collors)            0.074074            0.296296   \n169                     (omo collors)            0.074074            0.296296   \n\n      support  confidence    lift  leverage  conviction  \n171  0.074074         1.0  13.500  0.068587         inf  \n174  0.074074         1.0  13.500  0.068587         inf  \n199  0.074074         1.0  13.500  0.068587         inf  \n202  0.074074         1.0  13.500  0.068587         inf  \n170  0.074074         1.0   9.000  0.065844         inf  \n172  0.074074         1.0   6.750  0.063100         inf  \n184  0.074074         1.0   6.750  0.063100         inf  \n188  0.074074         1.0   6.750  0.063100         inf  \n200  0.074074         1.0   6.750  0.063100         inf  \n212  0.074074         1.0   6.750  0.063100         inf  \n60   0.074074         1.0   5.400  0.060357         inf  \n142  0.074074         1.0   5.400  0.060357         inf  \n166  0.074074         1.0   5.400  0.060357         inf  \n203  0.074074         1.0   5.400  0.060357         inf  \n149  0.074074         1.0   4.500  0.057613         inf  \n194  0.074074         1.0   4.500  0.057613         inf  \n109  0.074074         1.0   3.375  0.052126         inf  \n144  0.074074         1.0   3.375  0.052126         inf  \n148  0.074074         1.0   3.375  0.052126         inf  \n169  0.074074         1.0   3.375  0.052126         inf  ",
      "text/html": "<div>\n<style scoped>\n    .dataframe tbody tr th:only-of-type {\n        vertical-align: middle;\n    }\n\n    .dataframe tbody tr th {\n        vertical-align: top;\n    }\n\n    .dataframe thead th {\n        text-align: right;\n    }\n</style>\n<table border=\"1\" class=\"dataframe\">\n  <thead>\n    <tr style=\"text-align: right;\">\n      <th></th>\n      <th>antecedents</th>\n      <th>consequents</th>\n      <th>antecedent support</th>\n      <th>consequent support</th>\n      <th>support</th>\n      <th>confidence</th>\n      <th>lift</th>\n      <th>leverage</th>\n      <th>conviction</th>\n    </tr>\n  </thead>\n  <tbody>\n    <tr>\n      <th>171</th>\n      <td>(omo collors, banana caturra)</td>\n      <td>(limao taiti, coca)</td>\n      <td>0.074074</td>\n      <td>0.074074</td>\n      <td>0.074074</td>\n      <td>1.0</td>\n      <td>13.500</td>\n      <td>0.068587</td>\n      <td>inf</td>\n    </tr>\n    <tr>\n      <th>174</th>\n      <td>(limao taiti, coca)</td>\n      <td>(omo collors, banana caturra)</td>\n      <td>0.074074</td>\n      <td>0.074074</td>\n      <td>0.074074</td>\n      <td>1.0</td>\n      <td>13.500</td>\n      <td>0.068587</td>\n      <td>inf</td>\n    </tr>\n    <tr>\n      <th>199</th>\n      <td>(limão siciliano, omo collors)</td>\n      <td>(banana prata, coca lemon light)</td>\n      <td>0.074074</td>\n      <td>0.074074</td>\n      <td>0.074074</td>\n      <td>1.0</td>\n      <td>13.500</td>\n      <td>0.068587</td>\n      <td>inf</td>\n    </tr>\n    <tr>\n      <th>202</th>\n      <td>(banana prata, coca lemon light)</td>\n      <td>(limão siciliano, omo collors)</td>\n      <td>0.074074</td>\n      <td>0.074074</td>\n      <td>0.074074</td>\n      <td>1.0</td>\n      <td>13.500</td>\n      <td>0.068587</td>\n      <td>inf</td>\n    </tr>\n    <tr>\n      <th>170</th>\n      <td>(omo collors, limao taiti)</td>\n      <td>(banana caturra, coca)</td>\n      <td>0.074074</td>\n      <td>0.111111</td>\n      <td>0.074074</td>\n      <td>1.0</td>\n      <td>9.000</td>\n      <td>0.065844</td>\n      <td>inf</td>\n    </tr>\n    <tr>\n      <th>172</th>\n      <td>(omo collors, coca)</td>\n      <td>(limao taiti, banana caturra)</td>\n      <td>0.074074</td>\n      <td>0.148148</td>\n      <td>0.074074</td>\n      <td>1.0</td>\n      <td>6.750</td>\n      <td>0.063100</td>\n      <td>inf</td>\n    </tr>\n    <tr>\n      <th>184</th>\n      <td>(limão siciliano, omo progress)</td>\n      <td>(coca light, banana caturra)</td>\n      <td>0.074074</td>\n      <td>0.148148</td>\n      <td>0.074074</td>\n      <td>1.0</td>\n      <td>6.750</td>\n      <td>0.063100</td>\n      <td>inf</td>\n    </tr>\n    <tr>\n      <th>188</th>\n      <td>(omo progress, banana caturra)</td>\n      <td>(limão siciliano, coca light)</td>\n      <td>0.074074</td>\n      <td>0.148148</td>\n      <td>0.074074</td>\n      <td>1.0</td>\n      <td>6.750</td>\n      <td>0.063100</td>\n      <td>inf</td>\n    </tr>\n    <tr>\n      <th>200</th>\n      <td>(limão siciliano, coca lemon light)</td>\n      <td>(banana prata, omo collors)</td>\n      <td>0.074074</td>\n      <td>0.148148</td>\n      <td>0.074074</td>\n      <td>1.0</td>\n      <td>6.750</td>\n      <td>0.063100</td>\n      <td>inf</td>\n    </tr>\n    <tr>\n      <th>212</th>\n      <td>(banana prata, omo progress)</td>\n      <td>(coca light, limao taiti)</td>\n      <td>0.074074</td>\n      <td>0.148148</td>\n      <td>0.074074</td>\n      <td>1.0</td>\n      <td>6.750</td>\n      <td>0.063100</td>\n      <td>inf</td>\n    </tr>\n    <tr>\n      <th>60</th>\n      <td>(omo collors, banana caturra)</td>\n      <td>(coca)</td>\n      <td>0.074074</td>\n      <td>0.185185</td>\n      <td>0.074074</td>\n      <td>1.0</td>\n      <td>5.400</td>\n      <td>0.060357</td>\n      <td>inf</td>\n    </tr>\n    <tr>\n      <th>142</th>\n      <td>(omo collors, limao taiti)</td>\n      <td>(coca)</td>\n      <td>0.074074</td>\n      <td>0.185185</td>\n      <td>0.074074</td>\n      <td>1.0</td>\n      <td>5.400</td>\n      <td>0.060357</td>\n      <td>inf</td>\n    </tr>\n    <tr>\n      <th>166</th>\n      <td>(omo collors, limao taiti, banana caturra)</td>\n      <td>(coca)</td>\n      <td>0.074074</td>\n      <td>0.185185</td>\n      <td>0.074074</td>\n      <td>1.0</td>\n      <td>5.400</td>\n      <td>0.060357</td>\n      <td>inf</td>\n    </tr>\n    <tr>\n      <th>203</th>\n      <td>(coca lemon light, omo collors)</td>\n      <td>(limão siciliano, banana prata)</td>\n      <td>0.074074</td>\n      <td>0.185185</td>\n      <td>0.074074</td>\n      <td>1.0</td>\n      <td>5.400</td>\n      <td>0.060357</td>\n      <td>inf</td>\n    </tr>\n    <tr>\n      <th>149</th>\n      <td>(limão siciliano, omo collors)</td>\n      <td>(coca lemon light)</td>\n      <td>0.074074</td>\n      <td>0.222222</td>\n      <td>0.074074</td>\n      <td>1.0</td>\n      <td>4.500</td>\n      <td>0.057613</td>\n      <td>inf</td>\n    </tr>\n    <tr>\n      <th>194</th>\n      <td>(limão siciliano, banana prata, omo collors)</td>\n      <td>(coca lemon light)</td>\n      <td>0.074074</td>\n      <td>0.222222</td>\n      <td>0.074074</td>\n      <td>1.0</td>\n      <td>4.500</td>\n      <td>0.057613</td>\n      <td>inf</td>\n    </tr>\n    <tr>\n      <th>109</th>\n      <td>(banana prata, coca lemon light)</td>\n      <td>(omo collors)</td>\n      <td>0.074074</td>\n      <td>0.296296</td>\n      <td>0.074074</td>\n      <td>1.0</td>\n      <td>3.375</td>\n      <td>0.052126</td>\n      <td>inf</td>\n    </tr>\n    <tr>\n      <th>144</th>\n      <td>(limao taiti, coca)</td>\n      <td>(omo collors)</td>\n      <td>0.074074</td>\n      <td>0.296296</td>\n      <td>0.074074</td>\n      <td>1.0</td>\n      <td>3.375</td>\n      <td>0.052126</td>\n      <td>inf</td>\n    </tr>\n    <tr>\n      <th>148</th>\n      <td>(limão siciliano, coca lemon light)</td>\n      <td>(omo collors)</td>\n      <td>0.074074</td>\n      <td>0.296296</td>\n      <td>0.074074</td>\n      <td>1.0</td>\n      <td>3.375</td>\n      <td>0.052126</td>\n      <td>inf</td>\n    </tr>\n    <tr>\n      <th>169</th>\n      <td>(limao taiti, banana caturra, coca)</td>\n      <td>(omo collors)</td>\n      <td>0.074074</td>\n      <td>0.296296</td>\n      <td>0.074074</td>\n      <td>1.0</td>\n      <td>3.375</td>\n      <td>0.052126</td>\n      <td>inf</td>\n    </tr>\n  </tbody>\n</table>\n</div>"
     },
     "execution_count": 156,
     "metadata": {},
     "output_type": "execute_result"
    }
   ],
   "source": [
    "# Building the model\n",
    "frq_items = apriori(basket_encoded, min_support = 0.05, use_colnames = True)\n",
    "\n",
    "# Collecting the inferred rules in a dataframe\n",
    "rules = association_rules(frq_items, metric =\"lift\", min_threshold = 1)\n",
    "rules = rules.sort_values(['confidence', 'lift'], ascending =[False, False])\n",
    "rules.head(20)"
   ],
   "metadata": {
    "collapsed": false,
    "pycharm": {
     "name": "#%%\n"
    }
   }
  },
  {
   "cell_type": "markdown",
   "source": [
    "### Marca"
   ],
   "metadata": {
    "collapsed": false,
    "pycharm": {
     "name": "#%% md\n"
    }
   }
  },
  {
   "cell_type": "code",
   "execution_count": 157,
   "outputs": [],
   "source": [
    "#Eliminando espaços extras e transformando em minusculo\n",
    "basket = data.groupby(['IDTransação', 'marca'])['marca'].count().unstack().reset_index().fillna(0).set_index('IDTransação')\n",
    "\n",
    "# Encoding the datasets\n",
    "basket_encoded = basket.applymap(hot_encode)"
   ],
   "metadata": {
    "collapsed": false,
    "pycharm": {
     "name": "#%%\n"
    }
   }
  },
  {
   "cell_type": "code",
   "execution_count": 158,
   "outputs": [
    {
     "name": "stderr",
     "output_type": "stream",
     "text": [
      "C:\\Users\\cassio.reis_saudeid\\Desktop\\CASSIO\\SICRED\\venv\\lib\\site-packages\\mlxtend\\frequent_patterns\\fpcommon.py:111: DeprecationWarning: DataFrames with non-bool types result in worse computationalperformance and their support might be discontinued in the future.Please use a DataFrame with bool type\n",
      "  warnings.warn(\n"
     ]
    },
    {
     "data": {
      "text/plain": "              antecedents     consequents  antecedent support  \\\n34  (banana, ariel, coca)         (limão)            0.111111   \n6                   (omo)          (coca)            0.518519   \n9          (limão, ariel)        (banana)            0.185185   \n14           (omo, ariel)          (coca)            0.074074   \n22          (banana, omo)          (coca)            0.370370   \n30           (omo, limão)          (coca)            0.333333   \n35   (limão, ariel, coca)        (banana)            0.111111   \n40   (banana, omo, limão)          (coca)            0.296296   \n3                 (limão)        (banana)            0.666667   \n18          (limão, coca)        (banana)            0.592593   \n46           (omo, limão)  (banana, coca)            0.333333   \n4                 (limão)          (coca)            0.666667   \n27           (omo, limão)        (banana)            0.333333   \n43     (omo, limão, coca)        (banana)            0.333333   \n16        (banana, limão)          (coca)            0.629630   \n8         (banana, ariel)         (limão)            0.222222   \n17         (banana, coca)         (limão)            0.666667   \n20                (limão)  (banana, coca)            0.666667   \n0                (banana)          (coca)            0.814815   \n1                  (coca)        (banana)            0.814815   \n\n    consequent support   support  confidence      lift  leverage  conviction  \n34            0.666667  0.111111    1.000000  1.500000  0.037037         inf  \n6             0.814815  0.518519    1.000000  1.227273  0.096022         inf  \n9             0.814815  0.185185    1.000000  1.227273  0.034294         inf  \n14            0.814815  0.074074    1.000000  1.227273  0.013717         inf  \n22            0.814815  0.370370    1.000000  1.227273  0.068587         inf  \n30            0.814815  0.333333    1.000000  1.227273  0.061728         inf  \n35            0.814815  0.111111    1.000000  1.227273  0.020576         inf  \n40            0.814815  0.296296    1.000000  1.227273  0.054870         inf  \n3             0.814815  0.629630    0.944444  1.159091  0.086420    3.333333  \n18            0.814815  0.555556    0.937500  1.150568  0.072702    2.962963  \n46            0.666667  0.296296    0.888889  1.333333  0.074074    3.000000  \n4             0.814815  0.592593    0.888889  1.090909  0.049383    1.666667  \n27            0.814815  0.296296    0.888889  1.090909  0.024691    1.666667  \n43            0.814815  0.296296    0.888889  1.090909  0.024691    1.666667  \n16            0.814815  0.555556    0.882353  1.082888  0.042524    1.574074  \n8             0.666667  0.185185    0.833333  1.250000  0.037037    2.000000  \n17            0.666667  0.555556    0.833333  1.250000  0.111111    2.000000  \n20            0.666667  0.555556    0.833333  1.250000  0.111111    2.000000  \n0             0.814815  0.666667    0.818182  1.004132  0.002743    1.018519  \n1             0.814815  0.666667    0.818182  1.004132  0.002743    1.018519  ",
      "text/html": "<div>\n<style scoped>\n    .dataframe tbody tr th:only-of-type {\n        vertical-align: middle;\n    }\n\n    .dataframe tbody tr th {\n        vertical-align: top;\n    }\n\n    .dataframe thead th {\n        text-align: right;\n    }\n</style>\n<table border=\"1\" class=\"dataframe\">\n  <thead>\n    <tr style=\"text-align: right;\">\n      <th></th>\n      <th>antecedents</th>\n      <th>consequents</th>\n      <th>antecedent support</th>\n      <th>consequent support</th>\n      <th>support</th>\n      <th>confidence</th>\n      <th>lift</th>\n      <th>leverage</th>\n      <th>conviction</th>\n    </tr>\n  </thead>\n  <tbody>\n    <tr>\n      <th>34</th>\n      <td>(banana, ariel, coca)</td>\n      <td>(limão)</td>\n      <td>0.111111</td>\n      <td>0.666667</td>\n      <td>0.111111</td>\n      <td>1.000000</td>\n      <td>1.500000</td>\n      <td>0.037037</td>\n      <td>inf</td>\n    </tr>\n    <tr>\n      <th>6</th>\n      <td>(omo)</td>\n      <td>(coca)</td>\n      <td>0.518519</td>\n      <td>0.814815</td>\n      <td>0.518519</td>\n      <td>1.000000</td>\n      <td>1.227273</td>\n      <td>0.096022</td>\n      <td>inf</td>\n    </tr>\n    <tr>\n      <th>9</th>\n      <td>(limão, ariel)</td>\n      <td>(banana)</td>\n      <td>0.185185</td>\n      <td>0.814815</td>\n      <td>0.185185</td>\n      <td>1.000000</td>\n      <td>1.227273</td>\n      <td>0.034294</td>\n      <td>inf</td>\n    </tr>\n    <tr>\n      <th>14</th>\n      <td>(omo, ariel)</td>\n      <td>(coca)</td>\n      <td>0.074074</td>\n      <td>0.814815</td>\n      <td>0.074074</td>\n      <td>1.000000</td>\n      <td>1.227273</td>\n      <td>0.013717</td>\n      <td>inf</td>\n    </tr>\n    <tr>\n      <th>22</th>\n      <td>(banana, omo)</td>\n      <td>(coca)</td>\n      <td>0.370370</td>\n      <td>0.814815</td>\n      <td>0.370370</td>\n      <td>1.000000</td>\n      <td>1.227273</td>\n      <td>0.068587</td>\n      <td>inf</td>\n    </tr>\n    <tr>\n      <th>30</th>\n      <td>(omo, limão)</td>\n      <td>(coca)</td>\n      <td>0.333333</td>\n      <td>0.814815</td>\n      <td>0.333333</td>\n      <td>1.000000</td>\n      <td>1.227273</td>\n      <td>0.061728</td>\n      <td>inf</td>\n    </tr>\n    <tr>\n      <th>35</th>\n      <td>(limão, ariel, coca)</td>\n      <td>(banana)</td>\n      <td>0.111111</td>\n      <td>0.814815</td>\n      <td>0.111111</td>\n      <td>1.000000</td>\n      <td>1.227273</td>\n      <td>0.020576</td>\n      <td>inf</td>\n    </tr>\n    <tr>\n      <th>40</th>\n      <td>(banana, omo, limão)</td>\n      <td>(coca)</td>\n      <td>0.296296</td>\n      <td>0.814815</td>\n      <td>0.296296</td>\n      <td>1.000000</td>\n      <td>1.227273</td>\n      <td>0.054870</td>\n      <td>inf</td>\n    </tr>\n    <tr>\n      <th>3</th>\n      <td>(limão)</td>\n      <td>(banana)</td>\n      <td>0.666667</td>\n      <td>0.814815</td>\n      <td>0.629630</td>\n      <td>0.944444</td>\n      <td>1.159091</td>\n      <td>0.086420</td>\n      <td>3.333333</td>\n    </tr>\n    <tr>\n      <th>18</th>\n      <td>(limão, coca)</td>\n      <td>(banana)</td>\n      <td>0.592593</td>\n      <td>0.814815</td>\n      <td>0.555556</td>\n      <td>0.937500</td>\n      <td>1.150568</td>\n      <td>0.072702</td>\n      <td>2.962963</td>\n    </tr>\n    <tr>\n      <th>46</th>\n      <td>(omo, limão)</td>\n      <td>(banana, coca)</td>\n      <td>0.333333</td>\n      <td>0.666667</td>\n      <td>0.296296</td>\n      <td>0.888889</td>\n      <td>1.333333</td>\n      <td>0.074074</td>\n      <td>3.000000</td>\n    </tr>\n    <tr>\n      <th>4</th>\n      <td>(limão)</td>\n      <td>(coca)</td>\n      <td>0.666667</td>\n      <td>0.814815</td>\n      <td>0.592593</td>\n      <td>0.888889</td>\n      <td>1.090909</td>\n      <td>0.049383</td>\n      <td>1.666667</td>\n    </tr>\n    <tr>\n      <th>27</th>\n      <td>(omo, limão)</td>\n      <td>(banana)</td>\n      <td>0.333333</td>\n      <td>0.814815</td>\n      <td>0.296296</td>\n      <td>0.888889</td>\n      <td>1.090909</td>\n      <td>0.024691</td>\n      <td>1.666667</td>\n    </tr>\n    <tr>\n      <th>43</th>\n      <td>(omo, limão, coca)</td>\n      <td>(banana)</td>\n      <td>0.333333</td>\n      <td>0.814815</td>\n      <td>0.296296</td>\n      <td>0.888889</td>\n      <td>1.090909</td>\n      <td>0.024691</td>\n      <td>1.666667</td>\n    </tr>\n    <tr>\n      <th>16</th>\n      <td>(banana, limão)</td>\n      <td>(coca)</td>\n      <td>0.629630</td>\n      <td>0.814815</td>\n      <td>0.555556</td>\n      <td>0.882353</td>\n      <td>1.082888</td>\n      <td>0.042524</td>\n      <td>1.574074</td>\n    </tr>\n    <tr>\n      <th>8</th>\n      <td>(banana, ariel)</td>\n      <td>(limão)</td>\n      <td>0.222222</td>\n      <td>0.666667</td>\n      <td>0.185185</td>\n      <td>0.833333</td>\n      <td>1.250000</td>\n      <td>0.037037</td>\n      <td>2.000000</td>\n    </tr>\n    <tr>\n      <th>17</th>\n      <td>(banana, coca)</td>\n      <td>(limão)</td>\n      <td>0.666667</td>\n      <td>0.666667</td>\n      <td>0.555556</td>\n      <td>0.833333</td>\n      <td>1.250000</td>\n      <td>0.111111</td>\n      <td>2.000000</td>\n    </tr>\n    <tr>\n      <th>20</th>\n      <td>(limão)</td>\n      <td>(banana, coca)</td>\n      <td>0.666667</td>\n      <td>0.666667</td>\n      <td>0.555556</td>\n      <td>0.833333</td>\n      <td>1.250000</td>\n      <td>0.111111</td>\n      <td>2.000000</td>\n    </tr>\n    <tr>\n      <th>0</th>\n      <td>(banana)</td>\n      <td>(coca)</td>\n      <td>0.814815</td>\n      <td>0.814815</td>\n      <td>0.666667</td>\n      <td>0.818182</td>\n      <td>1.004132</td>\n      <td>0.002743</td>\n      <td>1.018519</td>\n    </tr>\n    <tr>\n      <th>1</th>\n      <td>(coca)</td>\n      <td>(banana)</td>\n      <td>0.814815</td>\n      <td>0.814815</td>\n      <td>0.666667</td>\n      <td>0.818182</td>\n      <td>1.004132</td>\n      <td>0.002743</td>\n      <td>1.018519</td>\n    </tr>\n  </tbody>\n</table>\n</div>"
     },
     "execution_count": 158,
     "metadata": {},
     "output_type": "execute_result"
    }
   ],
   "source": [
    "# Building the model\n",
    "frq_items = apriori(basket_encoded, min_support = 0.05, use_colnames = True)\n",
    "\n",
    "# Collecting the inferred rules in a dataframe\n",
    "rules = association_rules(frq_items, metric =\"lift\", min_threshold = 1)\n",
    "rules = rules.sort_values(['confidence', 'lift'], ascending =[False, False])\n",
    "rules.head(20)"
   ],
   "metadata": {
    "collapsed": false,
    "pycharm": {
     "name": "#%%\n"
    }
   }
  },
  {
   "cell_type": "markdown",
   "source": [
    "### Tipo"
   ],
   "metadata": {
    "collapsed": false,
    "pycharm": {
     "name": "#%% md\n"
    }
   }
  },
  {
   "cell_type": "code",
   "execution_count": 159,
   "outputs": [],
   "source": [
    "basket = data.groupby(['IDTransação', 'tipo'])['tipo'].count().unstack().reset_index().fillna(0).set_index('IDTransação')"
   ],
   "metadata": {
    "collapsed": false,
    "pycharm": {
     "name": "#%%\n"
    }
   }
  },
  {
   "cell_type": "code",
   "execution_count": 160,
   "outputs": [],
   "source": [
    "# Encoding the datasets\n",
    "basket_encoded = basket.applymap(hot_encode)"
   ],
   "metadata": {
    "collapsed": false,
    "pycharm": {
     "name": "#%%\n"
    }
   }
  },
  {
   "cell_type": "code",
   "execution_count": 161,
   "outputs": [
    {
     "name": "stderr",
     "output_type": "stream",
     "text": [
      "C:\\Users\\cassio.reis_saudeid\\Desktop\\CASSIO\\SICRED\\venv\\lib\\site-packages\\mlxtend\\frequent_patterns\\fpcommon.py:111: DeprecationWarning: DataFrames with non-bool types result in worse computationalperformance and their support might be discontinued in the future.Please use a DataFrame with bool type\n",
      "  warnings.warn(\n"
     ]
    },
    {
     "data": {
      "text/plain": "      antecedents     consequents  antecedent support  consequent support  \\\n0  (refrigerante)         (fruta)            0.814815            0.851852   \n1         (fruta)  (refrigerante)            0.851852            0.814815   \n\n    support  confidence      lift  leverage  conviction  \n0  0.703704    0.863636  1.013834  0.009602    1.086420  \n1  0.703704    0.826087  1.013834  0.009602    1.064815  ",
      "text/html": "<div>\n<style scoped>\n    .dataframe tbody tr th:only-of-type {\n        vertical-align: middle;\n    }\n\n    .dataframe tbody tr th {\n        vertical-align: top;\n    }\n\n    .dataframe thead th {\n        text-align: right;\n    }\n</style>\n<table border=\"1\" class=\"dataframe\">\n  <thead>\n    <tr style=\"text-align: right;\">\n      <th></th>\n      <th>antecedents</th>\n      <th>consequents</th>\n      <th>antecedent support</th>\n      <th>consequent support</th>\n      <th>support</th>\n      <th>confidence</th>\n      <th>lift</th>\n      <th>leverage</th>\n      <th>conviction</th>\n    </tr>\n  </thead>\n  <tbody>\n    <tr>\n      <th>0</th>\n      <td>(refrigerante)</td>\n      <td>(fruta)</td>\n      <td>0.814815</td>\n      <td>0.851852</td>\n      <td>0.703704</td>\n      <td>0.863636</td>\n      <td>1.013834</td>\n      <td>0.009602</td>\n      <td>1.086420</td>\n    </tr>\n    <tr>\n      <th>1</th>\n      <td>(fruta)</td>\n      <td>(refrigerante)</td>\n      <td>0.851852</td>\n      <td>0.814815</td>\n      <td>0.703704</td>\n      <td>0.826087</td>\n      <td>1.013834</td>\n      <td>0.009602</td>\n      <td>1.064815</td>\n    </tr>\n  </tbody>\n</table>\n</div>"
     },
     "execution_count": 161,
     "metadata": {},
     "output_type": "execute_result"
    }
   ],
   "source": [
    "# Building the model\n",
    "frq_items = apriori(basket_encoded, min_support = 0.05, use_colnames = True)\n",
    "rules = association_rules(frq_items, metric =\"lift\", min_threshold = 1)\n",
    "rules = rules.sort_values(['confidence', 'lift'], ascending =[False, False])\n",
    "rules.head(20)"
   ],
   "metadata": {
    "collapsed": false,
    "pycharm": {
     "name": "#%%\n"
    }
   }
  },
  {
   "cell_type": "code",
   "execution_count": 161,
   "outputs": [],
   "source": [],
   "metadata": {
    "collapsed": false,
    "pycharm": {
     "name": "#%%\n"
    }
   }
  }
 ],
 "metadata": {
  "kernelspec": {
   "display_name": "Python 3",
   "language": "python",
   "name": "python3"
  },
  "language_info": {
   "codemirror_mode": {
    "name": "ipython",
    "version": 2
   },
   "file_extension": ".py",
   "mimetype": "text/x-python",
   "name": "python",
   "nbconvert_exporter": "python",
   "pygments_lexer": "ipython2",
   "version": "2.7.6"
  }
 },
 "nbformat": 4,
 "nbformat_minor": 0
}